{
  "nbformat": 4,
  "nbformat_minor": 0,
  "metadata": {
    "colab": {
      "provenance": [],
      "collapsed_sections": []
    },
    "kernelspec": {
      "name": "python3",
      "display_name": "Python 3"
    },
    "language_info": {
      "name": "python"
    },
    "accelerator": "GPU"
  },
  "cells": [
    {
      "cell_type": "markdown",
      "source": [
        "# Name : Raj Jaiswal\n",
        "# Applied for : Data Science Internship \n",
        "# Task : Healthcare image classification"
      ],
      "metadata": {
        "id": "PqhL-n3TXFpE"
      }
    },
    {
      "cell_type": "markdown",
      "source": [
        "# **Multiclass Image Classification using CNN**"
      ],
      "metadata": {
        "id": "zxQTyk6gH0G6"
      }
    },
    {
      "cell_type": "markdown",
      "source": [
        "In this notebook I have shown how a simple CNN is implemented on a multiclass image classification problem. I have covered\n",
        "\n",
        "1. How to create a 2 CNN Model and Train it.\n",
        "\n",
        "2. How to evaluate the model on test set using different classification metrics.\n",
        "\n",
        "3. How to visualize the images present in the training and test set."
      ],
      "metadata": {
        "id": "p1HTZK3NH8F5"
      }
    },
    {
      "cell_type": "markdown",
      "source": [
        "**1. Import the Required Libraries**"
      ],
      "metadata": {
        "id": "gEXMmnQDIIfw"
      }
    },
    {
      "cell_type": "code",
      "execution_count": 2,
      "metadata": {
        "id": "V8vIxXzfHurH"
      },
      "outputs": [],
      "source": [
        "import numpy as np\n",
        "import matplotlib.pyplot as plt\n",
        "import seaborn as sns\n",
        "%matplotlib inline\n",
        "\n",
        "\n",
        "import tensorflow as tf\n",
        "import keras\n",
        "from tensorflow.keras.models import Sequential\n",
        "from tensorflow.keras.layers import Activation,  Conv2D, Dense, Dropout, Flatten, MaxPooling2D\n",
        "from tensorflow.keras import layers\n",
        "from tensorflow.keras.preprocessing.image import ImageDataGenerator\n",
        "from tensorflow.keras.optimizers import Adam\n",
        "from tensorflow.keras.losses import CategoricalCrossentropy\n",
        "from tensorflow.keras.regularizers import l2"
      ]
    },
    {
      "cell_type": "code",
      "source": [
        "!pip install gradio"
      ],
      "metadata": {
        "id": "zvn5XIiQWlNZ"
      },
      "execution_count": null,
      "outputs": []
    },
    {
      "cell_type": "markdown",
      "source": [
        "**2. Load the Image Training and Validation Datasets**"
      ],
      "metadata": {
        "id": "nGTATwJuIzfI"
      }
    },
    {
      "cell_type": "code",
      "source": [
        "from google.colab import drive\n",
        "drive.mount('/content/drive')"
      ],
      "metadata": {
        "colab": {
          "base_uri": "https://localhost:8080/"
        },
        "id": "DoZaQwzAIB0R",
        "outputId": "b943fdf6-f231-4cfa-c00d-433f4a21ce22"
      },
      "execution_count": 1,
      "outputs": [
        {
          "output_type": "stream",
          "name": "stdout",
          "text": [
            "Mounted at /content/drive\n"
          ]
        }
      ]
    },
    {
      "cell_type": "markdown",
      "source": [
        "**2.1. Get the Image Dataset Path**"
      ],
      "metadata": {
        "id": "18Juwr8FJU-I"
      }
    },
    {
      "cell_type": "code",
      "source": [
        "data_path = r\"/content/drive/MyDrive/Artificial Neurons.AI/Dataset\"\n",
        "train_data = r\"/content/drive/MyDrive/Artificial Neurons.AI/Dataset/Train\"\n",
        "val_data = r\"/content/drive/MyDrive/Artificial Neurons.AI/Dataset/Val\""
      ],
      "metadata": {
        "id": "VEdxe9lbH3GJ"
      },
      "execution_count": 4,
      "outputs": []
    },
    {
      "cell_type": "markdown",
      "source": [
        "**2.2. Load Image Datasets and Apply Augmentations**"
      ],
      "metadata": {
        "id": "Vg3-jBjcJX8A"
      }
    },
    {
      "cell_type": "markdown",
      "source": [
        "Since the images present in the datasets are various in size, the image height and width are taken as 150, 150 respectively. The batch size value can be changed if required."
      ],
      "metadata": {
        "id": "YHfjUzuzJnk-"
      }
    },
    {
      "cell_type": "code",
      "source": [
        "img_width = 180\n",
        "img_height = 180\n",
        "batch_size = 32"
      ],
      "metadata": {
        "id": "FYaCKhUQJb4-"
      },
      "execution_count": 5,
      "outputs": []
    },
    {
      "cell_type": "markdown",
      "source": [
        "**Loading the training dataset and applying augmentations on it.**"
      ],
      "metadata": {
        "id": "GEaGoyEaJuHO"
      }
    },
    {
      "cell_type": "code",
      "source": [
        "train_gen = tf.keras.preprocessing.image_dataset_from_directory(\n",
        "  train_data,\n",
        "  seed=123,\n",
        "  image_size=(img_height, img_width),\n",
        "  batch_size=batch_size)"
      ],
      "metadata": {
        "colab": {
          "base_uri": "https://localhost:8080/"
        },
        "id": "aRq7Lfr5Jvje",
        "outputId": "8ab04a82-efd1-4c33-ee93-330abca1cabc"
      },
      "execution_count": 6,
      "outputs": [
        {
          "output_type": "stream",
          "name": "stdout",
          "text": [
            "Found 240 files belonging to 4 classes.\n"
          ]
        }
      ]
    },
    {
      "cell_type": "markdown",
      "source": [
        "**Loading the validation dataset.**"
      ],
      "metadata": {
        "id": "XVZCyiAwKIHg"
      }
    },
    {
      "cell_type": "code",
      "source": [
        "val_gen = tf.keras.preprocessing.image_dataset_from_directory(\n",
        "  val_data ,\n",
        "  seed=123,\n",
        "  image_size=(img_height, img_width),\n",
        "  batch_size=batch_size)"
      ],
      "metadata": {
        "colab": {
          "base_uri": "https://localhost:8080/"
        },
        "id": "QN1ztAhFKJQH",
        "outputId": "e6e03f2d-a072-40f9-ec13-08ad1d29f68f"
      },
      "execution_count": 7,
      "outputs": [
        {
          "output_type": "stream",
          "name": "stdout",
          "text": [
            "Found 72 files belonging to 4 classes.\n"
          ]
        }
      ]
    },
    {
      "cell_type": "markdown",
      "source": [
        "**3. Training a CNN Model**"
      ],
      "metadata": {
        "id": "gNrCXESAL8lu"
      }
    },
    {
      "cell_type": "markdown",
      "source": [
        "Since the training dataset is ready let's create a different simple CNN Model to train on the image datasets"
      ],
      "metadata": {
        "id": "VUsl7_W7NQau"
      }
    },
    {
      "cell_type": "markdown",
      "source": [
        "## **CNN Model A**"
      ],
      "metadata": {
        "id": "i-zW-aLGQJPc"
      }
    },
    {
      "cell_type": "code",
      "source": [
        "cnn_model_a=tf.keras.Sequential()\n",
        "cnn_model_a.add(tf.keras.layers.Conv2D(filters=64,padding='same',strides=2,kernel_size=3,activation='relu',input_shape=(180,180,3)))\n",
        "cnn_model_a.add(tf.keras.layers.MaxPool2D(pool_size=2,strides=2))\n",
        "\n",
        "cnn_model_a.add(tf.keras.layers.Conv2D(filters=32,padding='same',strides=2,kernel_size=3,activation='relu'))\n",
        "cnn_model_a.add(tf.keras.layers.MaxPool2D(pool_size=2,strides=2))\n",
        "\n",
        "cnn_model_a.add(tf.keras.layers.Conv2D(filters=32,padding='same',strides=2,kernel_size=3,activation='relu'))\n",
        "cnn_model_a.add(tf.keras.layers.MaxPool2D(pool_size=2))\n",
        "\n",
        "cnn_model_a.add(tf.keras.layers.Flatten())\n",
        "cnn_model_a.add(tf.keras.layers.Dense(4,activation='softmax'))"
      ],
      "metadata": {
        "id": "Y1jGAHIdLqtt"
      },
      "execution_count": 24,
      "outputs": []
    },
    {
      "cell_type": "code",
      "source": [
        "cnn_model_a.summary()"
      ],
      "metadata": {
        "colab": {
          "base_uri": "https://localhost:8080/"
        },
        "id": "FENEC7gyNsc9",
        "outputId": "83a4aa8c-4dae-4bd5-bb44-5d16264b24a2"
      },
      "execution_count": 25,
      "outputs": [
        {
          "output_type": "stream",
          "name": "stdout",
          "text": [
            "Model: \"sequential_1\"\n",
            "_________________________________________________________________\n",
            " Layer (type)                Output Shape              Param #   \n",
            "=================================================================\n",
            " conv2d_3 (Conv2D)           (None, 90, 90, 64)        1792      \n",
            "                                                                 \n",
            " max_pooling2d_3 (MaxPooling  (None, 45, 45, 64)       0         \n",
            " 2D)                                                             \n",
            "                                                                 \n",
            " conv2d_4 (Conv2D)           (None, 23, 23, 32)        18464     \n",
            "                                                                 \n",
            " max_pooling2d_4 (MaxPooling  (None, 11, 11, 32)       0         \n",
            " 2D)                                                             \n",
            "                                                                 \n",
            " conv2d_5 (Conv2D)           (None, 6, 6, 32)          9248      \n",
            "                                                                 \n",
            " max_pooling2d_5 (MaxPooling  (None, 3, 3, 32)         0         \n",
            " 2D)                                                             \n",
            "                                                                 \n",
            " flatten_1 (Flatten)         (None, 288)               0         \n",
            "                                                                 \n",
            " dense_1 (Dense)             (None, 4)                 1156      \n",
            "                                                                 \n",
            "=================================================================\n",
            "Total params: 30,660\n",
            "Trainable params: 30,660\n",
            "Non-trainable params: 0\n",
            "_________________________________________________________________\n"
          ]
        }
      ]
    },
    {
      "cell_type": "code",
      "source": [
        "cnn_model_a.compile(optimizer=tf.keras.optimizers.Adam(learning_rate=0.001),loss=tf.keras.losses.SparseCategoricalCrossentropy(from_logits=True),metrics=['accuracy'])"
      ],
      "metadata": {
        "id": "2X9mNkvmNcOd"
      },
      "execution_count": 10,
      "outputs": []
    },
    {
      "cell_type": "code",
      "source": [
        "history_cnn_model_a = cnn_model_a.fit(train_gen,epochs=15,validation_data=val_gen)"
      ],
      "metadata": {
        "colab": {
          "base_uri": "https://localhost:8080/"
        },
        "id": "wRbts5tnNcz3",
        "outputId": "5d9880c3-df07-4664-d28a-292417ba362c"
      },
      "execution_count": 11,
      "outputs": [
        {
          "output_type": "stream",
          "name": "stdout",
          "text": [
            "Epoch 1/15\n"
          ]
        },
        {
          "output_type": "stream",
          "name": "stderr",
          "text": [
            "/usr/local/lib/python3.7/dist-packages/tensorflow/python/util/dispatch.py:1082: UserWarning: \"`sparse_categorical_crossentropy` received `from_logits=True`, but the `output` argument was produced by a sigmoid or softmax activation and thus does not represent logits. Was this intended?\"\n",
            "  return dispatch_target(*args, **kwargs)\n"
          ]
        },
        {
          "output_type": "stream",
          "name": "stdout",
          "text": [
            "8/8 [==============================] - 69s 2s/step - loss: 14.1062 - accuracy: 0.1958 - val_loss: 2.5215 - val_accuracy: 0.2917\n",
            "Epoch 2/15\n",
            "8/8 [==============================] - 1s 56ms/step - loss: 2.4374 - accuracy: 0.3417 - val_loss: 1.6070 - val_accuracy: 0.4028\n",
            "Epoch 3/15\n",
            "8/8 [==============================] - 1s 54ms/step - loss: 1.8285 - accuracy: 0.3042 - val_loss: 1.5271 - val_accuracy: 0.3056\n",
            "Epoch 4/15\n",
            "8/8 [==============================] - 1s 54ms/step - loss: 1.4796 - accuracy: 0.3625 - val_loss: 1.4430 - val_accuracy: 0.3889\n",
            "Epoch 5/15\n",
            "8/8 [==============================] - 1s 54ms/step - loss: 1.1667 - accuracy: 0.5042 - val_loss: 1.3081 - val_accuracy: 0.4444\n",
            "Epoch 6/15\n",
            "8/8 [==============================] - 1s 57ms/step - loss: 1.0482 - accuracy: 0.5833 - val_loss: 1.2017 - val_accuracy: 0.4861\n",
            "Epoch 7/15\n",
            "8/8 [==============================] - 1s 57ms/step - loss: 0.8774 - accuracy: 0.6667 - val_loss: 1.0814 - val_accuracy: 0.5833\n",
            "Epoch 8/15\n",
            "8/8 [==============================] - 1s 56ms/step - loss: 0.7902 - accuracy: 0.7375 - val_loss: 0.9925 - val_accuracy: 0.5972\n",
            "Epoch 9/15\n",
            "8/8 [==============================] - 1s 54ms/step - loss: 0.7032 - accuracy: 0.7667 - val_loss: 0.9393 - val_accuracy: 0.6250\n",
            "Epoch 10/15\n",
            "8/8 [==============================] - 1s 54ms/step - loss: 0.5993 - accuracy: 0.8042 - val_loss: 0.8505 - val_accuracy: 0.6667\n",
            "Epoch 11/15\n",
            "8/8 [==============================] - 1s 54ms/step - loss: 0.5392 - accuracy: 0.7792 - val_loss: 0.7737 - val_accuracy: 0.6667\n",
            "Epoch 12/15\n",
            "8/8 [==============================] - 1s 54ms/step - loss: 0.4361 - accuracy: 0.8750 - val_loss: 1.0090 - val_accuracy: 0.6389\n",
            "Epoch 13/15\n",
            "8/8 [==============================] - 1s 55ms/step - loss: 0.4391 - accuracy: 0.8417 - val_loss: 1.0756 - val_accuracy: 0.6111\n",
            "Epoch 14/15\n",
            "8/8 [==============================] - 1s 57ms/step - loss: 0.4310 - accuracy: 0.8250 - val_loss: 1.1423 - val_accuracy: 0.5972\n",
            "Epoch 15/15\n",
            "8/8 [==============================] - 1s 54ms/step - loss: 0.4819 - accuracy: 0.7958 - val_loss: 0.8140 - val_accuracy: 0.6944\n"
          ]
        }
      ]
    },
    {
      "cell_type": "markdown",
      "source": [
        "**3.1.A. Plotting the Model A Metrics**"
      ],
      "metadata": {
        "id": "GkHebhitOFtN"
      }
    },
    {
      "cell_type": "code",
      "source": [
        "train_accuracy = history_cnn_model_a.history['accuracy']\n",
        "val_accuracy = history_cnn_model_a.history['val_accuracy']\n",
        "\n",
        "train_loss = history_cnn_model_a.history['loss']\n",
        "val_loss = history_cnn_model_a.history['val_loss']\n",
        "\n"
      ],
      "metadata": {
        "id": "EkuzFgHPOIpU"
      },
      "execution_count": 12,
      "outputs": []
    },
    {
      "cell_type": "code",
      "source": [
        "fig, ax = plt.subplots(nrows=2, ncols=1, figsize=(12, 10))\n",
        "\n",
        "ax[0].set_title('Training Accuracy vs. Epochs')\n",
        "ax[0].plot(train_accuracy, 'o-', label='Train Accuracy')\n",
        "ax[0].plot(val_accuracy, 'o-', label='Validation Accuracy')\n",
        "ax[0].set_xlabel('Epochs')\n",
        "ax[0].set_ylabel('Accuracy')\n",
        "ax[0].legend(loc='best')\n",
        "\n",
        "ax[1].set_title('Training/Validation Loss vs. Epochs')\n",
        "ax[1].plot(train_loss, 'o-', label='Train Loss')\n",
        "ax[1].plot(val_loss, 'o-', label='Validation Loss')\n",
        "ax[1].set_xlabel('Epochs')\n",
        "ax[1].set_ylabel('Loss')\n",
        "ax[1].legend(loc='best')\n",
        "\n",
        "\n",
        "\n",
        "plt.tight_layout()\n",
        "plt.show()"
      ],
      "metadata": {
        "colab": {
          "base_uri": "https://localhost:8080/",
          "height": 729
        },
        "id": "L9eBU4i1Og1l",
        "outputId": "a8307a7d-9a0c-4945-db33-1a08da1e1e55"
      },
      "execution_count": 13,
      "outputs": [
        {
          "output_type": "display_data",
          "data": {
            "text/plain": [
              "<Figure size 864x720 with 2 Axes>"
            ],
            "image/png": "[encoded data removed]"
          },
          "metadata": {
            "needs_background": "light"
          }
        }
      ]
    },
    {
      "cell_type": "markdown",
      "source": [
        "**3.2.A. Testing the Model on Test Set**"
      ],
      "metadata": {
        "id": "JFwwpcj7O4rU"
      }
    },
    {
      "cell_type": "code",
      "source": [
        "test_dataset = '/content/drive/MyDrive/Artificial Neurons.AI/Dataset/Test'"
      ],
      "metadata": {
        "id": "9srmzuoeO4Sc"
      },
      "execution_count": 14,
      "outputs": []
    },
    {
      "cell_type": "code",
      "source": [
        "test_gen = tf.keras.preprocessing.image_dataset_from_directory(\n",
        "  test_dataset,\n",
        "  seed=123,\n",
        "  image_size=(img_height, img_width),\n",
        "  batch_size=batch_size)"
      ],
      "metadata": {
        "colab": {
          "base_uri": "https://localhost:8080/"
        },
        "id": "HiG74tfGQpYc",
        "outputId": "64260201-779b-4eb9-9de3-4861b1fe626f"
      },
      "execution_count": 15,
      "outputs": [
        {
          "output_type": "stream",
          "name": "stdout",
          "text": [
            "Found 101 files belonging to 4 classes.\n"
          ]
        }
      ]
    },
    {
      "cell_type": "code",
      "source": [
        "test_loss, test_accuracy = cnn_model_a.evaluate(test_gen, batch_size=batch_size)"
      ],
      "metadata": {
        "colab": {
          "base_uri": "https://localhost:8080/"
        },
        "id": "VMnVKAXtQy-0",
        "outputId": "1b894869-44f6-44a1-80a6-dfe556af6af1"
      },
      "execution_count": 16,
      "outputs": [
        {
          "output_type": "stream",
          "name": "stdout",
          "text": [
            "4/4 [==============================] - 17s 24ms/step - loss: 0.5984 - accuracy: 0.8218\n"
          ]
        }
      ]
    },
    {
      "cell_type": "code",
      "source": [
        "print(f\"Test Loss:     {test_loss}\")\n",
        "print(f\"Test Accuracy: {test_accuracy*100}\")"
      ],
      "metadata": {
        "colab": {
          "base_uri": "https://localhost:8080/"
        },
        "id": "z-TRKfxsRA00",
        "outputId": "2a3558d1-ff56-437c-a70c-eeb9fa35addc"
      },
      "execution_count": 17,
      "outputs": [
        {
          "output_type": "stream",
          "name": "stdout",
          "text": [
            "Test Loss:     0.5983932018280029\n",
            "Test Accuracy: 82.17821717262268\n"
          ]
        }
      ]
    },
    {
      "cell_type": "code",
      "source": [
        "predictions = cnn_model_a.predict(test_gen)"
      ],
      "metadata": {
        "id": "0nsJDSJdReNz"
      },
      "execution_count": 20,
      "outputs": []
    },
    {
      "cell_type": "code",
      "source": [
        "class_names = train_gen.class_names\n",
        "print(class_names)"
      ],
      "metadata": {
        "colab": {
          "base_uri": "https://localhost:8080/"
        },
        "id": "FYOacfOPWXNS",
        "outputId": "6f456240-acba-4147-8d8b-e8a7b29d0ba7"
      },
      "execution_count": 21,
      "outputs": [
        {
          "output_type": "stream",
          "name": "stdout",
          "text": [
            "['ECG', 'Prescription', 'Report', 'X-Ray']\n"
          ]
        }
      ]
    },
    {
      "cell_type": "markdown",
      "source": [
        "**3.3.A. Test Model  A Predictions On Gradio GUI** "
      ],
      "metadata": {
        "id": "cWVwzfS2h3_a"
      }
    },
    {
      "cell_type": "code",
      "source": [
        "def predict_image(img):\n",
        "  img_5d=img.reshape(-1,180,180,3)\n",
        "  prediction=cnn_model_a.predict(img_5d)[0]\n",
        "  return {class_names[i]: float(prediction[i]) for i in range(4)}"
      ],
      "metadata": {
        "id": "3CcSqPcMWa_5"
      },
      "execution_count": 22,
      "outputs": []
    },
    {
      "cell_type": "code",
      "source": [
        "import gradio as gr\n",
        "\n",
        "image = gr.inputs.Image(shape=(180,180))\n",
        "label = gr.outputs.Label(num_top_classes=5)\n",
        "\n",
        "gr.Interface(fn=predict_image, inputs=image, outputs=label,interpretation='default').launch(debug='True')"
      ],
      "metadata": {
        "id": "LBylvH_LWgtZ",
        "colab": {
          "base_uri": "https://localhost:8080/",
          "height": 819
        },
        "outputId": "fc73595f-ac19-4d3d-af54-814672e69750"
      },
      "execution_count": 23,
      "outputs": [
        {
          "output_type": "stream",
          "name": "stderr",
          "text": [
            "/usr/local/lib/python3.7/dist-packages/gradio/inputs.py:257: UserWarning: Usage of gradio.inputs is deprecated, and will not be supported in the future, please import your component from gradio.components\n",
            "  \"Usage of gradio.inputs is deprecated, and will not be supported in the future, please import your component from gradio.components\",\n",
            "/usr/local/lib/python3.7/dist-packages/gradio/deprecation.py:40: UserWarning: `optional` parameter is deprecated, and it has no effect\n",
            "  warnings.warn(value)\n",
            "/usr/local/lib/python3.7/dist-packages/gradio/outputs.py:197: UserWarning: Usage of gradio.outputs is deprecated, and will not be supported in the future, please import your components from gradio.components\n",
            "  \"Usage of gradio.outputs is deprecated, and will not be supported in the future, please import your components from gradio.components\",\n",
            "/usr/local/lib/python3.7/dist-packages/gradio/deprecation.py:40: UserWarning: The 'type' parameter has been deprecated. Use the Number component instead.\n",
            "  warnings.warn(value)\n"
          ]
        },
        {
          "output_type": "stream",
          "name": "stdout",
          "text": [
            "Colab notebook detected. This cell will run indefinitely so that you can see errors and logs. To turn off, set debug=False in launch().\n",
            "Running on public URL: https://26448.gradio.app\n",
            "\n",
            "This share link expires in 72 hours. For free permanent hosting, check out Spaces: https://huggingface.co/spaces\n"
          ]
        },
        {
          "output_type": "display_data",
          "data": {
            "text/plain": [
              "<IPython.core.display.HTML object>"
            ],
            "text/html": [
              "<div><iframe src=\"https://26448.gradio.app\" width=\"900\" height=\"500\" allow=\"autoplay; camera; microphone; clipboard-read; clipboard-write;\" frameborder=\"0\" allowfullscreen></iframe></div>"
            ]
          },
          "metadata": {}
        },
        {
          "output_type": "stream",
          "name": "stdout",
          "text": [
            "Keyboard interruption in main thread... closing server.\n"
          ]
        },
        {
          "output_type": "execute_result",
          "data": {
            "text/plain": [
              "(<gradio.routes.App at 0x7ff513acb610>,\n",
              " 'http://127.0.0.1:7861/',\n",
              " 'https://26448.gradio.app')"
            ]
          },
          "metadata": {},
          "execution_count": 23
        }
      ]
    },
    {
      "cell_type": "markdown",
      "source": [
        "## **CNN Model B**"
      ],
      "metadata": {
        "id": "u8muSbKIWGBJ"
      }
    },
    {
      "cell_type": "code",
      "source": [
        "num_classes = 4\n",
        "\n",
        "cnn_model_b = Sequential([\n",
        "  layers.experimental.preprocessing.Rescaling(1./255, input_shape=(img_height, img_width, 3)),\n",
        "  layers.Conv2D(16, 3, padding='same', activation='relu'),\n",
        "  layers.MaxPooling2D(),\n",
        "  layers.Conv2D(32, 3, padding='same', activation='relu'),\n",
        "  layers.MaxPooling2D(),\n",
        "  layers.Conv2D(64, 3, padding='same', activation='relu'),\n",
        "  layers.MaxPooling2D(),\n",
        "  layers.Flatten(),\n",
        "  layers.Dense(128, activation='relu'),\n",
        "  layers.Dense(num_classes,activation='softmax')\n",
        "])"
      ],
      "metadata": {
        "id": "uusiLGU5WJDd"
      },
      "execution_count": 26,
      "outputs": []
    },
    {
      "cell_type": "code",
      "source": [
        "cnn_model_b.summary()"
      ],
      "metadata": {
        "colab": {
          "base_uri": "https://localhost:8080/"
        },
        "id": "UhdfkggFW_NI",
        "outputId": "45e6d2c8-ea28-4c86-d7df-884dfcbcc420"
      },
      "execution_count": 27,
      "outputs": [
        {
          "output_type": "stream",
          "name": "stdout",
          "text": [
            "Model: \"sequential_2\"\n",
            "_________________________________________________________________\n",
            " Layer (type)                Output Shape              Param #   \n",
            "=================================================================\n",
            " rescaling (Rescaling)       (None, 180, 180, 3)       0         \n",
            "                                                                 \n",
            " conv2d_6 (Conv2D)           (None, 180, 180, 16)      448       \n",
            "                                                                 \n",
            " max_pooling2d_6 (MaxPooling  (None, 90, 90, 16)       0         \n",
            " 2D)                                                             \n",
            "                                                                 \n",
            " conv2d_7 (Conv2D)           (None, 90, 90, 32)        4640      \n",
            "                                                                 \n",
            " max_pooling2d_7 (MaxPooling  (None, 45, 45, 32)       0         \n",
            " 2D)                                                             \n",
            "                                                                 \n",
            " conv2d_8 (Conv2D)           (None, 45, 45, 64)        18496     \n",
            "                                                                 \n",
            " max_pooling2d_8 (MaxPooling  (None, 22, 22, 64)       0         \n",
            " 2D)                                                             \n",
            "                                                                 \n",
            " flatten_2 (Flatten)         (None, 30976)             0         \n",
            "                                                                 \n",
            " dense_2 (Dense)             (None, 128)               3965056   \n",
            "                                                                 \n",
            " dense_3 (Dense)             (None, 4)                 516       \n",
            "                                                                 \n",
            "=================================================================\n",
            "Total params: 3,989,156\n",
            "Trainable params: 3,989,156\n",
            "Non-trainable params: 0\n",
            "_________________________________________________________________\n"
          ]
        }
      ]
    },
    {
      "cell_type": "code",
      "source": [
        "cnn_model_b.compile(optimizer=tf.keras.optimizers.Adam(learning_rate=0.001),loss=tf.keras.losses.SparseCategoricalCrossentropy(from_logits=True),metrics=['accuracy'])"
      ],
      "metadata": {
        "id": "rAVNmvzQX0so"
      },
      "execution_count": 28,
      "outputs": []
    },
    {
      "cell_type": "code",
      "source": [
        "epochs=15\n",
        "history_cnn_model_b = cnn_model_b.fit(\n",
        "  train_gen,\n",
        "  validation_data=val_gen,\n",
        "  epochs=epochs\n",
        ")"
      ],
      "metadata": {
        "colab": {
          "base_uri": "https://localhost:8080/"
        },
        "id": "3YFwbadjW2aw",
        "outputId": "f64eaa1a-cc19-4ddf-c69b-cc5db1c404de"
      },
      "execution_count": 29,
      "outputs": [
        {
          "output_type": "stream",
          "name": "stdout",
          "text": [
            "Epoch 1/15\n"
          ]
        },
        {
          "output_type": "stream",
          "name": "stderr",
          "text": [
            "/usr/local/lib/python3.7/dist-packages/tensorflow/python/util/dispatch.py:1082: UserWarning: \"`sparse_categorical_crossentropy` received `from_logits=True`, but the `output` argument was produced by a sigmoid or softmax activation and thus does not represent logits. Was this intended?\"\n",
            "  return dispatch_target(*args, **kwargs)\n"
          ]
        },
        {
          "output_type": "stream",
          "name": "stdout",
          "text": [
            "8/8 [==============================] - 2s 107ms/step - loss: 1.6861 - accuracy: 0.2792 - val_loss: 1.3426 - val_accuracy: 0.2500\n",
            "Epoch 2/15\n",
            "8/8 [==============================] - 1s 66ms/step - loss: 1.2618 - accuracy: 0.4042 - val_loss: 1.1346 - val_accuracy: 0.5556\n",
            "Epoch 3/15\n",
            "8/8 [==============================] - 1s 64ms/step - loss: 0.9054 - accuracy: 0.6958 - val_loss: 0.8551 - val_accuracy: 0.6389\n",
            "Epoch 4/15\n",
            "8/8 [==============================] - 1s 67ms/step - loss: 0.5311 - accuracy: 0.7542 - val_loss: 0.7336 - val_accuracy: 0.7083\n",
            "Epoch 5/15\n",
            "8/8 [==============================] - 1s 66ms/step - loss: 0.3974 - accuracy: 0.8292 - val_loss: 0.8258 - val_accuracy: 0.6806\n",
            "Epoch 6/15\n",
            "8/8 [==============================] - 1s 62ms/step - loss: 0.4322 - accuracy: 0.8083 - val_loss: 0.5062 - val_accuracy: 0.7917\n",
            "Epoch 7/15\n",
            "8/8 [==============================] - 1s 59ms/step - loss: 0.3861 - accuracy: 0.8458 - val_loss: 0.5721 - val_accuracy: 0.7500\n",
            "Epoch 8/15\n",
            "8/8 [==============================] - 1s 59ms/step - loss: 0.2876 - accuracy: 0.8917 - val_loss: 0.9550 - val_accuracy: 0.6667\n",
            "Epoch 9/15\n",
            "8/8 [==============================] - 1s 62ms/step - loss: 0.2549 - accuracy: 0.8625 - val_loss: 0.5868 - val_accuracy: 0.8056\n",
            "Epoch 10/15\n",
            "8/8 [==============================] - 1s 59ms/step - loss: 0.1819 - accuracy: 0.9333 - val_loss: 0.5407 - val_accuracy: 0.7917\n",
            "Epoch 11/15\n",
            "8/8 [==============================] - 1s 66ms/step - loss: 0.1555 - accuracy: 0.9375 - val_loss: 0.5301 - val_accuracy: 0.8194\n",
            "Epoch 12/15\n",
            "8/8 [==============================] - 1s 62ms/step - loss: 0.1119 - accuracy: 0.9625 - val_loss: 0.5972 - val_accuracy: 0.8056\n",
            "Epoch 13/15\n",
            "8/8 [==============================] - 1s 65ms/step - loss: 0.0872 - accuracy: 0.9583 - val_loss: 0.7296 - val_accuracy: 0.8194\n",
            "Epoch 14/15\n",
            "8/8 [==============================] - 1s 63ms/step - loss: 0.0928 - accuracy: 0.9583 - val_loss: 0.4743 - val_accuracy: 0.8333\n",
            "Epoch 15/15\n",
            "8/8 [==============================] - 1s 60ms/step - loss: 0.2041 - accuracy: 0.8958 - val_loss: 1.1715 - val_accuracy: 0.7083\n"
          ]
        }
      ]
    },
    {
      "cell_type": "markdown",
      "source": [
        "**3.1.B. Plotting the Model A Metrics**"
      ],
      "metadata": {
        "id": "99_iXHfCbxNG"
      }
    },
    {
      "cell_type": "code",
      "source": [
        "train_accuracy = history_cnn_model_b.history['accuracy']\n",
        "val_accuracy = history_cnn_model_b.history['val_accuracy']\n",
        "\n",
        "train_loss = history_cnn_model_b.history['loss']\n",
        "val_loss = history_cnn_model_b.history['val_loss']\n"
      ],
      "metadata": {
        "id": "6EU3pIgdbSNd"
      },
      "execution_count": 30,
      "outputs": []
    },
    {
      "cell_type": "code",
      "source": [
        "fig, ax = plt.subplots(nrows=2, ncols=1, figsize=(12, 10))\n",
        "\n",
        "ax[0].set_title('Training Accuracy vs. Epochs')\n",
        "ax[0].plot(train_accuracy, 'o-', label='Train Accuracy')\n",
        "ax[0].plot(val_accuracy, 'o-', label='Validation Accuracy')\n",
        "ax[0].set_xlabel('Epochs')\n",
        "ax[0].set_ylabel('Accuracy')\n",
        "ax[0].legend(loc='best')\n",
        "\n",
        "ax[1].set_title('Training/Validation Loss vs. Epochs')\n",
        "ax[1].plot(train_loss, 'o-', label='Train Loss')\n",
        "ax[1].plot(val_loss, 'o-', label='Validation Loss')\n",
        "ax[1].set_xlabel('Epochs')\n",
        "ax[1].set_ylabel('Loss')\n",
        "ax[1].legend(loc='best')\n",
        "\n",
        "\n",
        "\n",
        "plt.tight_layout()\n",
        "plt.show()"
      ],
      "metadata": {
        "colab": {
          "base_uri": "https://localhost:8080/",
          "height": 729
        },
        "id": "_XvvU-gVbcZF",
        "outputId": "ec5fb782-9de9-424a-e067-0afb86e388ee"
      },
      "execution_count": 31,
      "outputs": [
        {
          "output_type": "display_data",
          "data": {
            "text/plain": [
              "<Figure size 864x720 with 2 Axes>"
            ],
            "image/png": "[encoded data removed]"
          },
          "metadata": {
            "needs_background": "light"
          }
        }
      ]
    },
    {
      "cell_type": "markdown",
      "source": [
        "**3.2.B. Testing the Model on Test Set**"
      ],
      "metadata": {
        "id": "P7rY_uQ4b3YN"
      }
    },
    {
      "cell_type": "code",
      "source": [
        "test_loss, test_accuracy = cnn_model_b.evaluate(test_gen, batch_size=batch_size)"
      ],
      "metadata": {
        "colab": {
          "base_uri": "https://localhost:8080/"
        },
        "id": "WEsL1clnbfcN",
        "outputId": "5c42b304-3b76-419c-953a-748ff2420eb9"
      },
      "execution_count": 32,
      "outputs": [
        {
          "output_type": "stream",
          "name": "stdout",
          "text": [
            "4/4 [==============================] - 1s 44ms/step - loss: 1.3552 - accuracy: 0.8515\n"
          ]
        }
      ]
    },
    {
      "cell_type": "code",
      "source": [
        "print(f\"Test Loss:     {test_loss}\")\n",
        "print(f\"Test Accuracy: {test_accuracy*100}\")"
      ],
      "metadata": {
        "colab": {
          "base_uri": "https://localhost:8080/"
        },
        "id": "FSljApAbbjOV",
        "outputId": "5b780e90-844c-4aa4-d0e7-1ae7588190d2"
      },
      "execution_count": 33,
      "outputs": [
        {
          "output_type": "stream",
          "name": "stdout",
          "text": [
            "Test Loss:     1.3551987409591675\n",
            "Test Accuracy: 85.14851331710815\n"
          ]
        }
      ]
    },
    {
      "cell_type": "markdown",
      "source": [
        "**3.3.B Test Model B Predictions On Gradio GUI** "
      ],
      "metadata": {
        "id": "prS-aV2xh9Sp"
      }
    },
    {
      "cell_type": "code",
      "source": [
        "def predict_image(img):\n",
        "  img_5d=img.reshape(-1,180,180,3)\n",
        "  prediction=cnn_model_b.predict(img_5d)[0]\n",
        "  return {class_names[i]: float(prediction[i]) for i in range(4)}"
      ],
      "metadata": {
        "id": "Kx8gDhoVbntt"
      },
      "execution_count": 34,
      "outputs": []
    },
    {
      "cell_type": "code",
      "source": [
        "import gradio as gr\n",
        "\n",
        "image = gr.inputs.Image(shape=(180,180))\n",
        "label = gr.outputs.Label(num_top_classes=5)\n",
        "\n",
        "gr.Interface(fn=predict_image, inputs=image, outputs=label,interpretation='default').launch(debug='True')"
      ],
      "metadata": {
        "id": "fsv9t32cbrZ1",
        "colab": {
          "base_uri": "https://localhost:8080/",
          "height": 819
        },
        "outputId": "54df787a-33a2-4e07-cc86-fbc3544c4d25"
      },
      "execution_count": 35,
      "outputs": [
        {
          "output_type": "stream",
          "name": "stderr",
          "text": [
            "/usr/local/lib/python3.7/dist-packages/gradio/inputs.py:257: UserWarning: Usage of gradio.inputs is deprecated, and will not be supported in the future, please import your component from gradio.components\n",
            "  \"Usage of gradio.inputs is deprecated, and will not be supported in the future, please import your component from gradio.components\",\n",
            "/usr/local/lib/python3.7/dist-packages/gradio/deprecation.py:40: UserWarning: `optional` parameter is deprecated, and it has no effect\n",
            "  warnings.warn(value)\n",
            "/usr/local/lib/python3.7/dist-packages/gradio/outputs.py:197: UserWarning: Usage of gradio.outputs is deprecated, and will not be supported in the future, please import your components from gradio.components\n",
            "  \"Usage of gradio.outputs is deprecated, and will not be supported in the future, please import your components from gradio.components\",\n",
            "/usr/local/lib/python3.7/dist-packages/gradio/deprecation.py:40: UserWarning: The 'type' parameter has been deprecated. Use the Number component instead.\n",
            "  warnings.warn(value)\n"
          ]
        },
        {
          "output_type": "stream",
          "name": "stdout",
          "text": [
            "Colab notebook detected. This cell will run indefinitely so that you can see errors and logs. To turn off, set debug=False in launch().\n",
            "Running on public URL: https://12461.gradio.app\n",
            "\n",
            "This share link expires in 72 hours. For free permanent hosting, check out Spaces: https://huggingface.co/spaces\n"
          ]
        },
        {
          "output_type": "display_data",
          "data": {
            "text/plain": [
              "<IPython.core.display.HTML object>"
            ],
            "text/html": [
              "<div><iframe src=\"https://12461.gradio.app\" width=\"900\" height=\"500\" allow=\"autoplay; camera; microphone; clipboard-read; clipboard-write;\" frameborder=\"0\" allowfullscreen></iframe></div>"
            ]
          },
          "metadata": {}
        },
        {
          "output_type": "stream",
          "name": "stdout",
          "text": [
            "Keyboard interruption in main thread... closing server.\n"
          ]
        },
        {
          "output_type": "execute_result",
          "data": {
            "text/plain": [
              "(<gradio.routes.App at 0x7ff5136cd710>,\n",
              " 'http://127.0.0.1:7860/',\n",
              " 'https://12461.gradio.app')"
            ]
          },
          "metadata": {},
          "execution_count": 35
        }
      ]
    }
  ]
}